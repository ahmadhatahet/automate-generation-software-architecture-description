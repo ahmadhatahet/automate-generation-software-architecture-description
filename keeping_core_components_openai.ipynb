{
 "cells": [
  {
   "cell_type": "code",
   "execution_count": 1,
   "metadata": {},
   "outputs": [],
   "source": [
    "from lxml import etree\n",
    "from pathlib import Path\n",
    "import json"
   ]
  },
  {
   "cell_type": "code",
   "execution_count": 2,
   "metadata": {},
   "outputs": [],
   "source": [
    "# Load and parse the XML file\n",
    "xml_path = Path().cwd() / \"xml_data\"\n",
    "xml_file = xml_path / \"host_original.xml\"\n",
    "\n",
    "# define name spaces for element tags like xmi::*\n",
    "# fetch from exported xml file second line\n",
    "namespaces = {\n",
    "    \"uml\": \"http://schema.omg.org/spec/UML/2.1\",\n",
    "    \"xmi\": \"http://schema.omg.org/spec/XMI/2.1\",\n",
    "    \"thecustomprofile\": \"http://www.sparxsystems.com/profiles/thecustomprofile/1.0\",\n",
    "    \"GML\": \"http://www.sparxsystems.com/profiles/GML/1.0\",\n",
    "}\n",
    "\n",
    "# parse xml to tree\n",
    "tree = etree.parse(xml_file)\n",
    "root = tree.getroot()"
   ]
  },
  {
   "cell_type": "code",
   "execution_count": 3,
   "metadata": {},
   "outputs": [],
   "source": [
    "# Load and parse the XML file\n",
    "components_file = Path().cwd() / \"candidate_core_components_openai.json\"\n",
    "components = json.loads(components_file.read_text())[\"classes\"]"
   ]
  },
  {
   "cell_type": "code",
   "execution_count": 4,
   "metadata": {},
   "outputs": [],
   "source": [
    "# main node to find elements that do not fit the pattern for core components\n",
    "elements = root.findall(\".//xmi:Extension/elements/*\", namespaces)\n",
    "\n",
    "# collect the ids to non-core components\n",
    "ids_to_delete = {}\n",
    "\n",
    "# loop  over the elements and collect their ids if the pattern did not hold\n",
    "for element in elements:\n",
    "    # this f\"{{{namespaces['xmi']}}}idref\" equivelant to \"xmi:idref\" matching xml file format\n",
    "    element_id = element.attrib.get(f\"{{{namespaces['xmi']}}}idref\")\n",
    "    element_name = element.attrib.get(\"name\")\n",
    "    element_type = element.attrib.get(f\"{{{namespaces['xmi']}}}type\")\n",
    "\n",
    "    if element_name not in components and element_type != \"uml:Package\":\n",
    "        ids_to_delete[element_id] = element_name"
   ]
  },
  {
   "cell_type": "code",
   "execution_count": 5,
   "metadata": {},
   "outputs": [],
   "source": [
    "def remove_elements(xpath):\n",
    "    \"\"\"Find elements base on xpath then remove them.\"\"\"\n",
    "    # find elements\n",
    "    elements = root.findall(xpath, namespaces)\n",
    "    # remove elements\n",
    "    for element in elements:\n",
    "        element.getparent().remove(element)\n",
    "\n",
    "    return len(elements)\n",
    "\n",
    "def remove_elements_via_xpath(id_, xpaths, name, log, is_verbose):\n",
    "    \"\"\"Loop over the xpaths to remove the element based on id\"\"\"\n",
    "    for key, xpath_template in xpaths.items():\n",
    "        log[name][key] = remove_elements(xpath_template.format(id_=id_))\n",
    "\n",
    "\n",
    "def run_remove_elements_via_xpath(ids_to_delete, xpaths, is_verbose):\n",
    "    \"\"\"Loop the ids to remove the elements\"\"\"\n",
    "    # collect information\n",
    "    log = {}\n",
    "    # Delete collected ids from 5 main locations\n",
    "    for id_, name in ids_to_delete.items():\n",
    "        log[name] = {}\n",
    "        remove_elements_via_xpath(id_, xpaths, name, log, is_verbose)\n",
    "    return log"
   ]
  },
  {
   "cell_type": "code",
   "execution_count": 6,
   "metadata": {},
   "outputs": [],
   "source": [
    "# define XPath expressions\n",
    "xpaths = {\n",
    "    \"element_extension\": \".//xmi:Extension/elements/*[@xmi:idref='{id_}']\",\n",
    "    \"element_model\": \".//uml:Model/packagedElement/*[@xmi:id='{id_}']\",\n",
    "    \"ownedEnd\": \".//uml:Model/packagedElement/*/ownedEnd/type[@xmi:idref='{id_}']\",\n",
    "    \"connector_source\": \".//xmi:Extension/connectors/*/source[@xmi:idref='{id_}']\",\n",
    "    \"diagram\": \".//xmi:Extension/diagrams/*/elements/*/[@subject='{id_}']\",\n",
    "}\n",
    "\n",
    "# print extra information\n",
    "is_verbose = False\n",
    "\n",
    "# remove enumerations\n",
    "log = run_remove_elements_via_xpath(ids_to_delete, xpaths, is_verbose)"
   ]
  },
  {
   "cell_type": "code",
   "execution_count": 7,
   "metadata": {},
   "outputs": [],
   "source": [
    "# clean elements links from deleted elements\n",
    "links_xpaths = {\n",
    "    \"links_start\": \".//xmi:Extension/elements/*/links[@start='{id_}']\",\n",
    "    \"links_end\": \".//xmi:Extension/elements/*/links[@end='{id_}']\",\n",
    "}\n",
    "\n",
    "logs_inners = run_remove_elements_via_xpath(ids_to_delete, links_xpaths, is_verbose)"
   ]
  },
  {
   "cell_type": "code",
   "execution_count": 8,
   "metadata": {},
   "outputs": [],
   "source": [
    "# export core components to xml file\n",
    "xml_test_file = xml_path / \"host_core_components_openai.xml\"\n",
    "xml_test_file.touch(exist_ok=True)\n",
    "\n",
    "\n",
    "tree.write(xml_test_file, encoding=\"utf-8\")"
   ]
  },
  {
   "cell_type": "code",
   "execution_count": 9,
   "metadata": {},
   "outputs": [],
   "source": [
    "pkg = root.findall(\n",
    "    f\".//uml:Model/*[@xmi:type='uml:Package']\",\n",
    "    namespaces,\n",
    ")"
   ]
  },
  {
   "cell_type": "code",
   "execution_count": 10,
   "metadata": {},
   "outputs": [],
   "source": [
    "# get package id\n",
    "packages = root.findall(\n",
    "    f\".//uml:Model/*[@xmi:type='uml:Package']\",\n",
    "    namespaces,\n",
    ")\n",
    "\n",
    "core_components_package = {}\n",
    "\n",
    "for package in packages:\n",
    "    package_name = package.attrib.get(\"name\")\n",
    "    package_id = package.attrib.get(f\"{{{namespaces['xmi']}}}id\")\n",
    "\n",
    "    # get all elements for this package\n",
    "    elements = root.iterfind(\n",
    "        f\".//xmi:Extension/elements/element[@xmi:type='uml:Class']/model[@package='{package_id}']\",\n",
    "        namespaces,\n",
    "    )\n",
    "\n",
    "    # collect name + file path + any merged ones\n",
    "    core_components = {}\n",
    "\n",
    "    for e in elements:  # loop over all elements in package\n",
    "\n",
    "        e = e.getparent()\n",
    "        e_attrib = lambda e_, x: e_.attrib.get(x)  # support function\n",
    "        e_id = e_attrib(e, f\"{{{namespaces['xmi']}}}idref\")\n",
    "        e_name = e_attrib(e, \"name\")\n",
    "        code_data = e.find(\"code\")  # get header file path\n",
    "\n",
    "        if code_data is not None:\n",
    "\n",
    "            if e_attrib(code_data, \"genfile\") is not None:  # if the element has a code\n",
    "                core_components[e_attrib(e, \"name\")] = e_attrib(code_data, \"genfile\")\n",
    "\n",
    "    core_components_package[package_name] = core_components"
   ]
  },
  {
   "cell_type": "code",
   "execution_count": 11,
   "metadata": {},
   "outputs": [],
   "source": [
    "# modifying paths to header files of the core components\n",
    "# Enterprise Architect imports file using absolute path\n",
    "for package in core_components_package.keys():\n",
    "    for c in core_components_package[package].keys():\n",
    "        t = Path(\n",
    "            core_components_package[package][c].replace(\"\\\\\", \"/\")\n",
    "        )  # replace backslash with forward slash\n",
    "        core_components_package[package][\n",
    "            c\n",
    "        ] = [f\"{t.parent.parent.name}\\\\{t.parent.name}\\\\{t.name}\"]  # use parent folder name and file name"
   ]
  },
  {
   "cell_type": "code",
   "execution_count": 12,
   "metadata": {},
   "outputs": [],
   "source": [
    "filename = xml_path.parent / \"core_components_openai.json\"\n",
    "\n",
    "with filename.open(\"w\") as f:\n",
    "    json.dump(core_components, f, indent=4)"
   ]
  },
  {
   "cell_type": "code",
   "execution_count": null,
   "metadata": {},
   "outputs": [],
   "source": []
  }
 ],
 "metadata": {
  "kernelspec": {
   "display_name": ".venv",
   "language": "python",
   "name": "python3"
  },
  "language_info": {
   "codemirror_mode": {
    "name": "ipython",
    "version": 3
   },
   "file_extension": ".py",
   "mimetype": "text/x-python",
   "name": "python",
   "nbconvert_exporter": "python",
   "pygments_lexer": "ipython3",
   "version": "3.13.2"
  }
 },
 "nbformat": 4,
 "nbformat_minor": 2
}
