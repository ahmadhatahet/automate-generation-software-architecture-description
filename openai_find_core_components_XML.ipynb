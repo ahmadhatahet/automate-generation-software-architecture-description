{
 "cells": [
  {
   "cell_type": "code",
   "execution_count": 1,
   "metadata": {},
   "outputs": [
    {
     "data": {
      "text/plain": [
       "True"
      ]
     },
     "execution_count": 1,
     "metadata": {},
     "output_type": "execute_result"
    }
   ],
   "source": [
    "import os\n",
    "from pathlib import Path\n",
    "import json\n",
    "from lxml import etree\n",
    "from openai import AzureOpenAI\n",
    "from pydantic import BaseModel, Field\n",
    "from dotenv import load_dotenv\n",
    "\n",
    "\n",
    "load_dotenv(override=True)"
   ]
  },
  {
   "cell_type": "code",
   "execution_count": 2,
   "metadata": {},
   "outputs": [],
   "source": [
    "# Load and parse the XML file\n",
    "xml_path = Path().cwd() / \"xml_data\"\n",
    "xml_file = xml_path / \"host_original.xml\"\n",
    "\n",
    "# define name spaces for element tags like xmi::*\n",
    "# fetch from exported xml file second line\n",
    "namespaces = {\n",
    "    \"uml\": \"http://schema.omg.org/spec/UML/2.1\",\n",
    "    \"xmi\": \"http://schema.omg.org/spec/XMI/2.1\",\n",
    "    \"thecustomprofile\": \"http://www.sparxsystems.com/profiles/thecustomprofile/1.0\",\n",
    "    \"GML\": \"http://www.sparxsystems.com/profiles/GML/1.0\",\n",
    "}\n",
    "\n",
    "# parse xml to tree\n",
    "tree = etree.parse(xml_file)\n",
    "root = tree.getroot()"
   ]
  },
  {
   "cell_type": "code",
   "execution_count": 3,
   "metadata": {},
   "outputs": [],
   "source": [
    "elements = root.findall(\".//xmi:Extension/elements/*[@xmi:type='uml:Class']\", namespaces)"
   ]
  },
  {
   "cell_type": "code",
   "execution_count": 13,
   "metadata": {},
   "outputs": [],
   "source": [
    "classes = {}\n",
    "relationships = []\n",
    "\n",
    "for element in elements:\n",
    "    entity = classes.get(element.attrib.get(f\"{{{namespaces['xmi']}}}idref\"))\n",
    "    if entity is None:\n",
    "        classes[element.attrib.get(f\"{{{namespaces['xmi']}}}idref\")] = {\n",
    "            \"name\": element.attrib.get(\"name\"),\n",
    "            \"attributes\": [],\n",
    "            \"operations\": [],\n",
    "        }\n",
    "\n",
    "    if element.find(\"./attributes\") is not None:\n",
    "        for attr in element.find(\"./attributes\").iter():\n",
    "            if attr.attrib.get(\"name\") is not None:\n",
    "                classes[element.attrib.get(f\"{{{namespaces['xmi']}}}idref\")][\n",
    "                    \"attributes\"\n",
    "                ].append(attr.attrib.get(\"name\"))\n",
    "\n",
    "    if element.find(\"./operations\") is not None:\n",
    "        for oper in element.find(\"./operations\").iter():\n",
    "            if oper.attrib.get(\"name\") is not None:\n",
    "                classes[element.attrib.get(f\"{{{namespaces['xmi']}}}idref\")][\n",
    "                    \"operations\"\n",
    "                ].append(oper.attrib.get(\"name\"))\n",
    "\n",
    "    if element.find(\"./links\") is not None:\n",
    "        for link in element.find(\"./links\").iter():\n",
    "            if link.attrib.get(\"start\") is not None and link.attrib.get(\"end\") is not None:\n",
    "                relationships.append(\n",
    "                    {\n",
    "                        \"child\": link.attrib.get(\"start\"),\n",
    "                        \"parent\": link.attrib.get(\"end\"),\n",
    "                    }\n",
    "                )"
   ]
  },
  {
   "cell_type": "code",
   "execution_count": 14,
   "metadata": {},
   "outputs": [],
   "source": [
    "plantuml = []\n",
    "for rel in relationships:\n",
    "    parent = classes.get(rel[\"parent\"])\n",
    "    child = classes.get(rel[\"child\"])\n",
    "    if child and parent:\n",
    "        plantuml.append(f\"{child[\"name\"]} -- {parent[\"name\"]}\")\n",
    "\n",
    "\n",
    "for c in classes.values():\n",
    "    plantuml.append(\n",
    "        f\"\"\"class {c[\"name\"]} {{\n",
    "{\"\\n\".join(c[\"attributes\"])}\n",
    "{\"\\n\".join([f\"{o}()\" for o in c[\"operations\"]])}\n",
    "}}\"\"\"\n",
    "    )\n",
    "\n",
    "\n",
    "plantuml_text = \"@startuml\\n\\n\" + \"\\n\".join(set(plantuml)).strip() + \"\\n\\n@enduml\""
   ]
  },
  {
   "cell_type": "code",
   "execution_count": 15,
   "metadata": {},
   "outputs": [
    {
     "data": {
      "text/plain": [
       "4478"
      ]
     },
     "execution_count": 15,
     "metadata": {},
     "output_type": "execute_result"
    }
   ],
   "source": [
    "output_file = xml_file.parent / f\"{xml_file.stem}.puml\"\n",
    "output_file.write_text(plantuml_text)"
   ]
  },
  {
   "cell_type": "code",
   "execution_count": 16,
   "metadata": {},
   "outputs": [],
   "source": [
    "# format chatgpt response format\n",
    "class Classes(BaseModel):\n",
    "    classes: list[str] = Field(description=\"List of classes\")"
   ]
  },
  {
   "cell_type": "code",
   "execution_count": 17,
   "metadata": {},
   "outputs": [],
   "source": [
    "messages = [\n",
    "    {\n",
    "        \"role\": \"user\",\n",
    "        \"content\": f\"\"\"<role>\n",
    "You are an expert software engineer.\n",
    "</role>\n",
    "<goal>\n",
    "Extract an abstract view from the classes keeping only the most important classes.\n",
    "</goal>\n",
    "\n",
    "<description>\n",
    "You will receive a class diagram in PlantUML format highlighting all classes and their attributes and operations.\n",
    "Additionally, the relationships between classes are also included in one form of association which is not influential but helps you know which class connected to which class.\n",
    "</description>\n",
    "\n",
    "<plantuml>\n",
    "{plantuml_text}\n",
    "</plantuml>\n",
    "\"\"\",\n",
    "    }\n",
    "]"
   ]
  },
  {
   "cell_type": "code",
   "execution_count": 22,
   "metadata": {},
   "outputs": [
    {
     "data": {
      "text/plain": [
       "{'classes': ['Dishwasher', 'Tank', 'Heater', 'Jet', 'AbstractFactory']}"
      ]
     },
     "execution_count": 22,
     "metadata": {},
     "output_type": "execute_result"
    }
   ],
   "source": [
    "client = AzureOpenAI(\n",
    "    api_key=os.getenv(\"AZURE_API_KEY\"),\n",
    "    api_version=os.getenv(\"AZURE_API_VERSION\"),\n",
    "    azure_endpoint=os.getenv(\"AZURE_API_BASE\"),\n",
    ")\n",
    "\n",
    "# call ChatGPT completion API\n",
    "response = client.beta.chat.completions.parse(\n",
    "    model=os.getenv(\"MODEL\"),\n",
    "    messages=messages,\n",
    "    temperature=0.2,\n",
    "    seed=1234,\n",
    "    response_format=Classes,\n",
    "    max_tokens=100,\n",
    ")\n",
    "\n",
    "# Add response to messages\n",
    "messages.append({\"role\": \"assistant\", \"content\": response.choices[0].message.content})\n",
    "\n",
    "# parse output\n",
    "solution = json.loads(response.choices[0].message.content)\n",
    "\n",
    "solution"
   ]
  },
  {
   "cell_type": "code",
   "execution_count": 19,
   "metadata": {},
   "outputs": [],
   "source": [
    "core_classes_file = Path().cwd() / f\"candidate_core_components_openai.json\"\n",
    "json.dump(solution, core_classes_file.open(\"w\"), indent=4)"
   ]
  },
  {
   "cell_type": "code",
   "execution_count": null,
   "metadata": {},
   "outputs": [],
   "source": []
  },
  {
   "cell_type": "code",
   "execution_count": null,
   "metadata": {},
   "outputs": [],
   "source": []
  }
 ],
 "metadata": {
  "kernelspec": {
   "display_name": ".venv",
   "language": "python",
   "name": "python3"
  },
  "language_info": {
   "codemirror_mode": {
    "name": "ipython",
    "version": 3
   },
   "file_extension": ".py",
   "mimetype": "text/x-python",
   "name": "python",
   "nbconvert_exporter": "python",
   "pygments_lexer": "ipython3",
   "version": "3.13.2"
  }
 },
 "nbformat": 4,
 "nbformat_minor": 2
}
