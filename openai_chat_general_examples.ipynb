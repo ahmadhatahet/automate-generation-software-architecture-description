{
 "cells": [
  {
   "cell_type": "code",
   "execution_count": 7,
   "metadata": {},
   "outputs": [],
   "source": [
    "import os\n",
    "from pathlib import Path\n",
    "from dotenv import load_dotenv\n",
    "\n",
    "import json\n",
    "import datetime\n",
    "\n",
    "from openai import AzureOpenAI\n",
    "from pydantic import BaseModel, Field\n",
    "\n",
    "from prompts.StateDiagram import SYSTEM_PROMPT, user_message, example_message\n",
    "from utils import save_solution_puml, save_chat_json, save_chat_text"
   ]
  },
  {
   "cell_type": "code",
   "execution_count": 8,
   "metadata": {},
   "outputs": [
    {
     "data": {
      "text/plain": [
       "True"
      ]
     },
     "execution_count": 8,
     "metadata": {},
     "output_type": "execute_result"
    }
   ],
   "source": [
    "SEED = 1234\n",
    "\n",
    "base_path = Path().cwd()\n",
    "\n",
    "cpp_path = base_path / \"dishwasher_cpp/host\"\n",
    "\n",
    "chat_path = base_path / \"chats\" / \"general_examples\"\n",
    "chat_path.mkdir(parents=True, exist_ok=True)\n",
    "\n",
    "\n",
    "few_shots_path = base_path / \"diagrams\" / \"state_diagram_general_examples\" / \"ground_truth\"\n",
    "state_diagram_path = base_path / \"diagrams\" / \"state_diagram_general_examples\" / \"generated\"\n",
    "\n",
    "core_components = json.load((base_path / \"core_components_openai.json\").open(\"r\"))\n",
    "\n",
    "load_dotenv(override=True)"
   ]
  },
  {
   "cell_type": "code",
   "execution_count": 9,
   "metadata": {},
   "outputs": [],
   "source": [
    "# collect only cpp and puml files for all available general examples\n",
    "example_files = {}\n",
    "\n",
    "for f in few_shots_path.iterdir():\n",
    "\n",
    "    cpp_files = list(f.glob(\"*.cpp\"))\n",
    "    image_files = list(f.glob(\"*.jpg\"))\n",
    "\n",
    "    if len(cpp_files) > 0 and len(image_files) > 0:\n",
    "        example_files[f.name] = [cpp_files, image_files[0]]"
   ]
  },
  {
   "cell_type": "code",
   "execution_count": 10,
   "metadata": {},
   "outputs": [],
   "source": [
    "# format chatgpt response format\n",
    "class Solution(BaseModel):\n",
    "    solution: str = Field(description=\"PlantUML solution that start with '@startuml' and end with '@enduml'\")"
   ]
  },
  {
   "cell_type": "code",
   "execution_count": 11,
   "metadata": {},
   "outputs": [],
   "source": [
    "# generate simulated conversation for each example\n",
    "examples = [example_message(c, p) for c, p in example_files.values()]\n",
    "# flatten\n",
    "examples = [e for es in examples for e in es]"
   ]
  },
  {
   "cell_type": "code",
   "execution_count": 12,
   "metadata": {},
   "outputs": [
    {
     "name": "stdout",
     "output_type": "stream",
     "text": [
      "Processing component: abstractfactory\n",
      "Processing component: dishwasher\n",
      "Processing component: heater\n",
      "Processing component: jet\n",
      "Processing component: tank\n"
     ]
    }
   ],
   "source": [
    "for target_component, code_files_raw in core_components.items():\n",
    "\n",
    "    # get code files for the target component\n",
    "    code_files = []\n",
    "    for c in code_files_raw:\n",
    "        code_files.append(base_path / c.replace(\"\\\\\", \"/\").replace(\".h\", \".cpp\"))\n",
    "\n",
    "    if len(code_files) == 0:\n",
    "        print(f\"No code files found for component: {target_component}\")\n",
    "        continue\n",
    "\n",
    "    target_component = target_component.lower()\n",
    "    print(f\"Processing component: {target_component}\")\n",
    "\n",
    "    # User Prompt containing target cpp\n",
    "    user_prompt = user_message(code_files)\n",
    "    # System Prompt\n",
    "    messages = SYSTEM_PROMPT + examples + user_prompt\n",
    "\n",
    "    client = AzureOpenAI(\n",
    "        api_key=os.getenv(\"AZURE_API_KEY\"),\n",
    "        api_version=os.getenv(\"AZURE_API_VERSION\"),\n",
    "        azure_endpoint=os.getenv(\"AZURE_API_BASE\"),\n",
    "    )\n",
    "\n",
    "    # call ChatGPT completion API\n",
    "    response = client.beta.chat.completions.parse(\n",
    "        model=os.getenv(\"MODEL\"),\n",
    "        temperature=0.2,\n",
    "        messages=messages,\n",
    "        seed=SEED,\n",
    "        response_format=Solution,\n",
    "    )\n",
    "\n",
    "    # Add response to messages\n",
    "    messages.append(\n",
    "        {\"role\": \"assistant\", \"content\": response.choices[0].message.content}\n",
    "    )\n",
    "    # parse output\n",
    "    solution = json.loads(response.choices[0].message.content)[\"solution\"]\n",
    "\n",
    "    # save solution to puml file, render it, and save messages\n",
    "    chat_path_component = chat_path / target_component\n",
    "    chat_path_component.mkdir(parents=True, exist_ok=True)\n",
    "\n",
    "    chat_filename = f\"state_general_{target_component}_{response.model}\"\n",
    "    date_postfix = datetime.datetime.now().strftime(\"%d-%m-%Y_%H-%M-%S\")\n",
    "\n",
    "    save_solution_puml(\n",
    "        solution, state_diagram_path, target_component, response.model, date_postfix\n",
    "    )\n",
    "    save_chat_json(\n",
    "        messages, solution, response, chat_path_component, chat_filename, date_postfix\n",
    "    )\n",
    "    save_chat_text(messages, chat_path_component, chat_filename, date_postfix)"
   ]
  },
  {
   "cell_type": "code",
   "execution_count": null,
   "metadata": {},
   "outputs": [],
   "source": []
  },
  {
   "cell_type": "code",
   "execution_count": null,
   "metadata": {},
   "outputs": [],
   "source": []
  }
 ],
 "metadata": {
  "kernelspec": {
   "display_name": ".venv",
   "language": "python",
   "name": "python3"
  },
  "language_info": {
   "codemirror_mode": {
    "name": "ipython",
    "version": 3
   },
   "file_extension": ".py",
   "mimetype": "text/x-python",
   "name": "python",
   "nbconvert_exporter": "python",
   "pygments_lexer": "ipython3",
   "version": "3.13.2"
  }
 },
 "nbformat": 4,
 "nbformat_minor": 2
}
